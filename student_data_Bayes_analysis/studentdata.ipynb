{
 "cells": [
  {
   "cell_type": "code",
   "execution_count": 1,
   "metadata": {},
   "outputs": [],
   "source": [
    "import numpy as np\n",
    "import matplotlib.pyplot as plt\n",
    "import random\n",
    "import csv"
   ]
  },
  {
   "cell_type": "code",
   "execution_count": 2,
   "metadata": {},
   "outputs": [],
   "source": [
    "filename = './studentdata.csv' # init data\n",
    "class student_data:\n",
    "    def __init__(self,row):\n",
    "        self.Gender = row[0]\n",
    "        self.ClassYear = (int)(row[1])\n",
    "        self.LarkOwl = row[2]\n",
    "        self.NumEarlyClass = (int)(row[3])\n",
    "        self.EarlyClass = (int)(row[4])\n",
    "        self.GPA = (float)(row[5])\n",
    "        self.ClassesMissed = (int)(row[6])\n",
    "        self.CognitionZscore = (float)(row[7])\n",
    "        self.PoorSleepQuality = (int)(row[8])\n",
    "        self.DepressionScore = (int)(row[9])\n",
    "        self.AnxietyScore = int(row[10])\n",
    "        self.StressScore = (int)(row[11])\n",
    "        self.DepressionStatus = row[12]\n",
    "        self.AnxietyStatus = row[13]\n",
    "        self.Stress = row[14]\n",
    "        self.DASScore = (int)(row[15])\n",
    "        self.Happiness = (int)(row[16])\n",
    "        self.AlcoholUse = row[17]\n",
    "        self.Drinks = (int)(row[18])\n",
    "        self.WeekdayBed = (float)(row[19])\n",
    "        self.WeekdayRise = (float)(row[20])\n",
    "        self.WeekdaySleep = (float)(row[21])\n",
    "        self.WeekendBed = (float)(row[22])\n",
    "        self.WeekendRise = (float)(row[23])\n",
    "        self.WeekendSleep = (float)(row[24])\n",
    "        self.AverageSleep =(float)(row[25])\n",
    "        self.AllNighter = (int)(row[26])\n",
    "    def __str__(self):\n",
    "        return str(self.Gender)+\" \"+ str(self.ClassYear)+\" \"+str(self.LarkOwl)\n",
    "datas = []\n",
    "with open(filename, encoding='utf-8') as f:\n",
    "    reader = csv.reader(f)\n",
    "    for row in reader:\n",
    "        datas.append(student_data(row))"
   ]
  },
  {
   "cell_type": "code",
   "execution_count": 3,
   "metadata": {},
   "outputs": [],
   "source": [
    "# select train data and test data\n",
    "test_datas_gen = [random.randint(0,len(datas)-1) for _ in range(len(datas)//15)]\n",
    "\n",
    "test_datas = [datas[i] for i in test_datas_gen]\n",
    "\n",
    "train_datas_gen =  [num for num in range(len(datas)-1) if num not in test_datas_gen]\n",
    "\n",
    "train_datas = [datas[i] for i in train_datas_gen]"
   ]
  },
  {
   "cell_type": "code",
   "execution_count": 4,
   "metadata": {},
   "outputs": [
    {
     "name": "stdout",
     "output_type": "stream",
     "text": [
      "averageOfGPA: 3.251660\n",
      "stdOfGPA: 0.405296\n"
     ]
    },
    {
     "data": {
      "image/png": "[encoded data removed]",
      "text/plain": [
       "<Figure size 432x288 with 1 Axes>"
      ]
     },
     "metadata": {
      "needs_background": "light"
     },
     "output_type": "display_data"
    }
   ],
   "source": [
    "# calculate GPA\n",
    "gpas = [train_datas[i].GPA for i in range((len(train_datas)-1))]\n",
    "AverageGPA = np.mean(gpas)\n",
    "print(\"averageOfGPA: %f\"%AverageGPA)\n",
    "stdGPA = np.std(gpas,ddof=1)\n",
    "print(\"stdOfGPA: %f\"%stdGPA)\n",
    "\n",
    "plt.hist(gpas, bins=8, density=1, alpha=0.5, histtype='stepfilled',color='steelblue', edgecolor='none')\n",
    "x  = np.linspace(1,4)\n",
    "y =  np.exp(-(x-AverageGPA)**2/(2*stdGPA**2))/(np.sqrt(2*np.pi)*stdGPA)\n",
    "plt.plot(x,y,'ro-',x,y,'g*',linewidth=2,markersize = 3)\n",
    "plt.xlabel('GPA')\n",
    "plt.ylabel('frequency density')\n",
    "plt.grid()\n",
    "plt.show()"
   ]
  },
  {
   "cell_type": "code",
   "execution_count": 5,
   "metadata": {},
   "outputs": [
    {
     "name": "stdout",
     "output_type": "stream",
     "text": [
      "gpa top students : 27\n",
      "gpa not top students: 208\n",
      "P(top)=0.118143\n",
      "P(normal)=0.881857\n"
     ]
    }
   ],
   "source": [
    "## prob GPA \n",
    "### using laplacian correction\n",
    "\n",
    "# the top 10% of students' GPA is above 3.75\n",
    "gpaTop = 0\n",
    "for i in range(len(train_datas)-1):\n",
    "    if train_datas[i].GPA >= 3.75:\n",
    "        gpaTop+=1\n",
    "print('gpa top students : %d'%gpaTop)\n",
    "\n",
    "gpaNotTop = 0\n",
    "for i in range(len(train_datas)-1):\n",
    "    if train_datas[i].GPA < (3.75):\n",
    "        gpaNotTop+=1\n",
    "print('gpa not top students: %d'%gpaNotTop)\n",
    "\n",
    "\n",
    "def prob_gpa(gpaState):\n",
    "    if gpaState == 'top':\n",
    "        return (gpaTop+1)/(len(train_datas)-1+2)\n",
    "    if gpaState == 'normal':\n",
    "        return (gpaNotTop+1)/(len(train_datas)-1+2)\n",
    "print(\"P(top)=%f\"%prob_gpa('top'))\n",
    "print(\"P(normal)=%f\"%prob_gpa('normal'))"
   ]
  },
  {
   "cell_type": "code",
   "execution_count": 6,
   "metadata": {},
   "outputs": [
    {
     "name": "stdout",
     "output_type": "stream",
     "text": [
      "P(female|top)=0.689655\n",
      "P(female|normal)=0.585714\n",
      "P(male|top)=0.310345\n",
      "P(male|normal)=0.409524\n"
     ]
    }
   ],
   "source": [
    "## Gender 1 = male, 0 = female\n",
    "def gpa_and_Gender(gpa,gender):\n",
    "    value = 0\n",
    "    if gpa == 'top':\n",
    "        for i in range(len(train_datas)-1):\n",
    "            if train_datas[i].GPA >= 3.75 and train_datas[i].Gender == gender :\n",
    "                value+=1\n",
    "    if gpa == 'normal':\n",
    "        for i in range(len(train_datas)-1):\n",
    "            if train_datas[i].GPA < 3.75 and train_datas[i].Gender == gender :\n",
    "                value+=1\n",
    "    return value\n",
    "\n",
    "def prob_GenderGivenGPA(gender,gpaState):\n",
    "    if gpaState == 'top':\n",
    "        return (gpa_and_Gender(gpaState,gender)+1)/(gpaTop+2)\n",
    "    if gpaState == 'normal':\n",
    "        return (gpa_and_Gender(gpaState,gender)+1)/(gpaNotTop+2)\n",
    "\n",
    "print(\"P(female|top)=%f\"%prob_GenderGivenGPA('0','top'))\n",
    "print(\"P(female|normal)=%f\"%prob_GenderGivenGPA('0','normal'))\n",
    "print(\"P(male|top)=%f\"%prob_GenderGivenGPA('1','top'))\n",
    "print(\"P(male|normal)=%f\"%prob_GenderGivenGPA('1','normal'))"
   ]
  },
  {
   "cell_type": "code",
   "execution_count": 7,
   "metadata": {},
   "outputs": [
    {
     "name": "stdout",
     "output_type": "stream",
     "text": [
      "P(1st|top)=0.580645\n",
      "P(1st|normal)=0.141509\n",
      "P(2ed|top)=0.096774\n",
      "P(2ed|normal)=0.400943\n",
      "P(3rd|top)=0.129032\n",
      "P(3rd|normal)=0.235849\n",
      "P(4th|top)=0.193548\n",
      "P(4th|normal)=0.221698\n"
     ]
    }
   ],
   "source": [
    "## ClassYear\n",
    "def gpa_and_ClassYear(gpa,year):\n",
    "    value = 0\n",
    "    if gpa == 'top':\n",
    "        for i in range(len(train_datas)-1):\n",
    "            if train_datas[i].GPA >= 3.75 and train_datas[i].ClassYear == year :\n",
    "                value+=1\n",
    "    if gpa == 'normal':\n",
    "        for i in range(len(train_datas)-1):\n",
    "            if train_datas[i].GPA < 3.75 and train_datas[i].ClassYear == year :\n",
    "                value+=1\n",
    "    return value\n",
    "\n",
    "def prob_ClassYearGivenGPA(ClassYear,gpaState):\n",
    "    if gpaState == 'top':\n",
    "        return (gpa_and_ClassYear(gpaState,ClassYear)+1)/(gpaTop+4)\n",
    "    if gpaState == 'normal':\n",
    "        return (gpa_and_ClassYear(gpaState,ClassYear)+1)/(gpaNotTop+4)\n",
    "    \n",
    "print(\"P(1st|top)=%f\"%prob_ClassYearGivenGPA(1,'top'))\n",
    "print(\"P(1st|normal)=%f\"%prob_ClassYearGivenGPA(1,'normal'))\n",
    "print(\"P(2ed|top)=%f\"%prob_ClassYearGivenGPA(2,'top'))\n",
    "print(\"P(2ed|normal)=%f\"%prob_ClassYearGivenGPA(2,'normal'))\n",
    "print(\"P(3rd|top)=%f\"%prob_ClassYearGivenGPA(3,'top'))\n",
    "print(\"P(3rd|normal)=%f\"%prob_ClassYearGivenGPA(3,'normal'))\n",
    "print(\"P(4th|top)=%f\"%prob_ClassYearGivenGPA(4,'top'))\n",
    "print(\"P(4th|normal)=%f\"%prob_ClassYearGivenGPA(4,'normal'))"
   ]
  },
  {
   "cell_type": "code",
   "execution_count": 8,
   "metadata": {},
   "outputs": [
    {
     "name": "stdout",
     "output_type": "stream",
     "text": [
      "P(Lark|top)=0.233333\n",
      "P(Lark|normal)=0.170616\n",
      "P(Owl|top)=0.166667\n",
      "P(Owl|normal)=0.194313\n",
      "P(Neither|top)=0.600000\n",
      "P(Neither|normal)=0.635071\n"
     ]
    }
   ],
   "source": [
    "## LarkOwl\n",
    "def gpa_and_LarkOwl(gpa,LarkOwl):\n",
    "    value = 0\n",
    "    if gpa == 'top':\n",
    "        for i in range(len(train_datas)-1):\n",
    "            if train_datas[i].GPA >= 3.75 and train_datas[i].LarkOwl == LarkOwl :\n",
    "                value+=1\n",
    "    if gpa == 'normal':\n",
    "        for i in range(len(train_datas)-1):\n",
    "            if train_datas[i].GPA < 3.75 and train_datas[i].LarkOwl == LarkOwl :\n",
    "                value+=1\n",
    "    return value\n",
    "\n",
    "def prob_LarkOwlGivenGPA(LarkOwl,gpaState):\n",
    "    if gpaState == 'top':\n",
    "        return (gpa_and_LarkOwl(gpaState,LarkOwl)+1)/(gpaTop+3)\n",
    "    if gpaState == 'normal':\n",
    "        return (gpa_and_LarkOwl(gpaState,LarkOwl)+1)/(gpaNotTop+3)\n",
    "    \n",
    "print(\"P(Lark|top)=%f\"%prob_LarkOwlGivenGPA('Lark','top'))\n",
    "print(\"P(Lark|normal)=%f\"%prob_LarkOwlGivenGPA('Lark','normal'))\n",
    "print(\"P(Owl|top)=%f\"%prob_LarkOwlGivenGPA('Owl','top'))\n",
    "print(\"P(Owl|normal)=%f\"%prob_LarkOwlGivenGPA('Owl','normal'))\n",
    "print(\"P(Neither|top)=%f\"%prob_LarkOwlGivenGPA('Neither','top'))\n",
    "print(\"P(Neither|normal)=%f\"%prob_LarkOwlGivenGPA('Neither','normal')) "
   ]
  },
  {
   "cell_type": "code",
   "execution_count": 9,
   "metadata": {},
   "outputs": [
    {
     "name": "stdout",
     "output_type": "stream",
     "text": [
      "0.2727272727272727\n",
      "0.3411214953271028\n",
      "0.12121212121212122\n",
      "0.056074766355140186\n",
      "0.24242424242424243\n",
      "0.34579439252336447\n",
      "0.15151515151515152\n",
      "0.13551401869158877\n",
      "0.09090909090909091\n",
      "0.04672897196261682\n",
      "0.12121212121212122\n",
      "0.07476635514018691\n"
     ]
    }
   ],
   "source": [
    "## NumEarlyClass\n",
    "def gpa_and_NumEarlyClass(gpa,NumEarlyClass):\n",
    "    value = 0\n",
    "    if gpa == 'top':\n",
    "        for i in range(len(train_datas)-1):\n",
    "            if train_datas[i].GPA >= 3.75 and train_datas[i].NumEarlyClass == NumEarlyClass :\n",
    "                value+=1\n",
    "    if gpa == 'normal':\n",
    "        for i in range(len(train_datas)-1):\n",
    "            if train_datas[i].GPA < 3.75 and train_datas[i].NumEarlyClass == NumEarlyClass :\n",
    "                value+=1\n",
    "    return value\n",
    "\n",
    "def prob_NumEarlyClassGivenGPA(NumEarlyClass,gpaState):\n",
    "    if gpaState == 'top':\n",
    "        return (gpa_and_NumEarlyClass(gpaState,NumEarlyClass)+1)/(gpaTop+6)\n",
    "    if gpaState == 'normal':\n",
    "        return (gpa_and_NumEarlyClass(gpaState,NumEarlyClass)+1)/(gpaNotTop+6)\n",
    "\n",
    "print(prob_NumEarlyClassGivenGPA(0,'top'))\n",
    "print(prob_NumEarlyClassGivenGPA(0,'normal'))\n",
    "print(prob_NumEarlyClassGivenGPA(1,'top'))\n",
    "print(prob_NumEarlyClassGivenGPA(1,'normal'))\n",
    "print(prob_NumEarlyClassGivenGPA(2,'top'))\n",
    "print(prob_NumEarlyClassGivenGPA(2,'normal'))\n",
    "print(prob_NumEarlyClassGivenGPA(3,'top'))\n",
    "print(prob_NumEarlyClassGivenGPA(3,'normal'))\n",
    "print(prob_NumEarlyClassGivenGPA(4,'top'))\n",
    "print(prob_NumEarlyClassGivenGPA(4,'normal'))\n",
    "print(prob_NumEarlyClassGivenGPA(5,'top'))\n",
    "print(prob_NumEarlyClassGivenGPA(5,'normal'))"
   ]
  },
  {
   "cell_type": "code",
   "execution_count": 10,
   "metadata": {},
   "outputs": [
    {
     "name": "stdout",
     "output_type": "stream",
     "text": [
      "P(normalDepression|top)=0.666667\n",
      "P(normalDepression|normal)=0.834123\n",
      "P(moderateDepression|top)=0.266667\n",
      "P(moderateDepression|normal)=0.123223\n",
      "P(severeDepression|top)=0.066667\n",
      "P(severeDepression|normal)=0.042654\n"
     ]
    }
   ],
   "source": [
    "## DepressionStatus\n",
    "def gpa_and_DepressionStatus(gpa,state):\n",
    "    value = 0\n",
    "    if gpa == 'top':\n",
    "        for i in range(len(train_datas)-1):\n",
    "            if train_datas[i].GPA >= 3.75 and train_datas[i].DepressionStatus == state :\n",
    "                value+=1\n",
    "    if gpa == 'normal':\n",
    "        for i in range(len(train_datas)-1):\n",
    "            if train_datas[i].GPA < 3.75 and train_datas[i].DepressionStatus == state :\n",
    "                value+=1      \n",
    "    return value\n",
    "def prob_DepressionStatusGivenGPA(DepressionStatus,gpaState):\n",
    "    if gpaState == 'top':\n",
    "        return (gpa_and_DepressionStatus(gpaState,DepressionStatus)+1)/(gpaTop+3)\n",
    "    if gpaState == 'normal':\n",
    "        return (gpa_and_DepressionStatus(gpaState,DepressionStatus)+1)/(gpaNotTop+3)\n",
    "    \n",
    "print(\"P(normalDepression|top)=%f\"%prob_DepressionStatusGivenGPA('normal','top'))\n",
    "print(\"P(normalDepression|normal)=%f\"%prob_DepressionStatusGivenGPA('normal','normal'))\n",
    "print(\"P(moderateDepression|top)=%f\"%prob_DepressionStatusGivenGPA('moderate','top'))\n",
    "print(\"P(moderateDepression|normal)=%f\"%prob_DepressionStatusGivenGPA('moderate','normal'))\n",
    "print(\"P(severeDepression|top)=%f\"%prob_DepressionStatusGivenGPA('severe','top'))\n",
    "print(\"P(severeDepression|normal)=%f\"%prob_DepressionStatusGivenGPA('severe','normal'))"
   ]
  },
  {
   "cell_type": "code",
   "execution_count": 11,
   "metadata": {},
   "outputs": [
    {
     "name": "stdout",
     "output_type": "stream",
     "text": [
      "0.7\n",
      "0.6872037914691943\n",
      "0.2\n",
      "0.24170616113744076\n",
      "0.1\n",
      "0.07109004739336493\n"
     ]
    }
   ],
   "source": [
    "## AnxietyStatus\n",
    "def gpa_and_AnxietyStatus(gpa,state):\n",
    "    value = 0\n",
    "    if gpa == 'top':\n",
    "        for i in range(len(train_datas)-1):\n",
    "            if train_datas[i].GPA >= 3.75 and train_datas[i].AnxietyStatus == state :\n",
    "                value+=1\n",
    "    if gpa == 'normal':\n",
    "        for i in range(len(train_datas)-1):\n",
    "            if train_datas[i].GPA < 3.75 and train_datas[i].AnxietyStatus == state :\n",
    "                value+=1      \n",
    "    return value\n",
    "\n",
    "def prob_AnxietyStatusGivenGPA(AnxietyStatus,gpaState):\n",
    "    if gpaState == 'top':\n",
    "        return (gpa_and_AnxietyStatus(gpaState,AnxietyStatus)+1)/(gpaTop+3)\n",
    "    if gpaState == 'normal':\n",
    "        return (gpa_and_AnxietyStatus(gpaState,AnxietyStatus)+1)/(gpaNotTop+3)\n",
    "    \n",
    "print(prob_AnxietyStatusGivenGPA('normal','top'))\n",
    "print(prob_AnxietyStatusGivenGPA('normal','normal'))\n",
    "print(prob_AnxietyStatusGivenGPA('moderate','top'))\n",
    "print(prob_AnxietyStatusGivenGPA('moderate','normal'))\n",
    "print(prob_AnxietyStatusGivenGPA('severe','top'))\n",
    "print(prob_AnxietyStatusGivenGPA('severe','normal'))"
   ]
  },
  {
   "cell_type": "code",
   "execution_count": 12,
   "metadata": {},
   "outputs": [
    {
     "name": "stdout",
     "output_type": "stream",
     "text": [
      "P(normalStress|top)=0.689655\n",
      "P(normalStress|normal)=0.776190\n",
      "P(highStress|top)=0.310345\n",
      "P(highStress|normal)=0.223810\n"
     ]
    }
   ],
   "source": [
    "## Stress\n",
    "def gpa_and_Stress(gpa,state):\n",
    "    value = 0\n",
    "    if gpa == 'top':\n",
    "        for i in range(len(train_datas)-1):\n",
    "            if train_datas[i].GPA >= 3.75 and train_datas[i].Stress == state :\n",
    "                value+=1\n",
    "    if gpa == 'normal':\n",
    "        for i in range(len(train_datas)-1):\n",
    "            if train_datas[i].GPA < 3.75 and train_datas[i].Stress == state :\n",
    "                value+=1      \n",
    "    return value\n",
    "\n",
    "def prob_StressGivenGPA(Stress,gpaState):\n",
    "    if gpaState == 'top':\n",
    "        return (gpa_and_Stress(gpaState,Stress)+1)/(gpaTop+2)\n",
    "    if gpaState == 'normal':\n",
    "        return (gpa_and_Stress(gpaState,Stress)+1)/(gpaNotTop+2)\n",
    "    \n",
    "print(\"P(normalStress|top)=%f\"%prob_StressGivenGPA('normal','top'))\n",
    "print(\"P(normalStress|normal)=%f\"%prob_StressGivenGPA('normal','normal'))\n",
    "print(\"P(highStress|top)=%f\"%prob_StressGivenGPA('high','top'))\n",
    "print(\"P(highStress|normal)=%f\"%prob_StressGivenGPA('high','normal'))"
   ]
  },
  {
   "cell_type": "code",
   "execution_count": 13,
   "metadata": {},
   "outputs": [
    {
     "name": "stdout",
     "output_type": "stream",
     "text": [
      "P(Abstain|top)=0.193548\n",
      "P(Abstain|normal)=0.132075\n",
      "P(Light|top)=0.354839\n",
      "P(Light|normal)=0.330189\n",
      "P(Moderate|top)=0.354839\n",
      "P(Moderate|normal)=0.466981\n",
      "P(Heavy|top)=0.096774\n",
      "P(Heavy|normal)=0.070755\n"
     ]
    }
   ],
   "source": [
    "## AlcoholUse\n",
    "def gpaTop_and_AlcoholUse(gpa,state):\n",
    "    value = 0\n",
    "    if gpa == 'top':\n",
    "        for i in range(len(train_datas)-1):\n",
    "            if train_datas[i].GPA >= 3.75 and train_datas[i].AlcoholUse == state :\n",
    "                value+=1\n",
    "    if gpa == 'normal':\n",
    "        for i in range(len(train_datas)-1):\n",
    "            if train_datas[i].GPA < 3.75 and train_datas[i].AlcoholUse == state :\n",
    "                value+=1        \n",
    "    return value\n",
    "\n",
    "def prob_AlcoholUseGivenGPA(AlcoholUse,gpaState):\n",
    "    if gpaState == 'top':\n",
    "        return (gpaTop_and_AlcoholUse(gpaState,AlcoholUse)+1)/(gpaTop+4)\n",
    "    if gpaState == 'normal':\n",
    "        return (gpaTop_and_AlcoholUse(gpaState,AlcoholUse)+1)/(gpaNotTop+4)\n",
    "    \n",
    "print(\"P(Abstain|top)=%f\"%prob_AlcoholUseGivenGPA('Abstain','top'))\n",
    "print(\"P(Abstain|normal)=%f\"%prob_AlcoholUseGivenGPA('Abstain','normal'))\n",
    "print(\"P(Light|top)=%f\"%prob_AlcoholUseGivenGPA('Light','top'))\n",
    "print(\"P(Light|normal)=%f\"%prob_AlcoholUseGivenGPA('Light','normal'))\n",
    "print(\"P(Moderate|top)=%f\"%prob_AlcoholUseGivenGPA('Moderate','top'))\n",
    "print(\"P(Moderate|normal)=%f\"%prob_AlcoholUseGivenGPA('Moderate','normal'))\n",
    "print(\"P(Heavy|top)=%f\"%prob_AlcoholUseGivenGPA('Heavy','top'))\n",
    "print(\"P(Heavy|normal)=%f\"%prob_AlcoholUseGivenGPA('Heavy','normal'))"
   ]
  },
  {
   "cell_type": "code",
   "execution_count": 14,
   "metadata": {},
   "outputs": [
    {
     "name": "stdout",
     "output_type": "stream",
     "text": [
      "averageOfWeekdaySleepOfGpaTop: 7.774074\n",
      "stdOWeekdaySleepOfGpaTop: 1.138140\n",
      "AverageSleepOfGpaNormal: 7.844327\n",
      "stdSleepOfGpaNormal: 1.190709\n"
     ]
    },
    {
     "data": {
      "image/png": "[encoded data removed]",
      "text/plain": [
       "<Figure size 432x288 with 1 Axes>"
      ]
     },
     "metadata": {
      "needs_background": "light"
     },
     "output_type": "display_data"
    },
    {
     "data": {
      "image/png": "[encoded data removed]",
      "text/plain": [
       "<Figure size 432x288 with 1 Axes>"
      ]
     },
     "metadata": {
      "needs_background": "light"
     },
     "output_type": "display_data"
    },
    {
     "name": "stdout",
     "output_type": "stream",
     "text": [
      "P(7.9|top):0.348382\n",
      "P(7.9|normal):0.334680\n"
     ]
    }
   ],
   "source": [
    "## WeekdaySleep\n",
    "WeekdaySleepOfGpaTop = [train_datas[i].WeekdaySleep for i in range((len(train_datas)-1)) if train_datas[i].GPA >= (3.75)]\n",
    "AverageSleepOfGpaTop = np.mean(WeekdaySleepOfGpaTop)\n",
    "print(\"averageOfWeekdaySleepOfGpaTop: %f\"%AverageSleepOfGpaTop)\n",
    "stdSleepOfGpaTop = np.std(WeekdaySleepOfGpaTop,ddof=1)\n",
    "print(\"stdOWeekdaySleepOfGpaTop: %f\"%stdSleepOfGpaTop)\n",
    "WeekdaySleepOfGpaNormal = [train_datas[i].WeekdaySleep for i in range((len(train_datas)-1)) if train_datas[i].GPA < (3.75)]\n",
    "AverageSleepOfGpaNormal = np.mean(WeekdaySleepOfGpaNormal)\n",
    "print(\"AverageSleepOfGpaNormal: %f\"%AverageSleepOfGpaNormal)\n",
    "stdSleepOfGpaNormal = np.std(WeekdaySleepOfGpaNormal,ddof=1)\n",
    "print(\"stdSleepOfGpaNormal: %f\"%stdSleepOfGpaNormal)\n",
    "\n",
    "plt.hist(WeekdaySleepOfGpaTop, bins=5, density=1, alpha=0.5, histtype='stepfilled',color='steelblue', edgecolor='none')\n",
    "x  = np.linspace(3,12)\n",
    "y =  np.exp(-(x-AverageSleepOfGpaTop)**2/(2*stdSleepOfGpaTop**2))/(np.sqrt(2*np.pi)*stdSleepOfGpaTop)\n",
    "plt.plot(x,y,'ro-',x,y,'g*',linewidth=2,markersize = 3)\n",
    "plt.xlabel('weekday sleep hours')\n",
    "plt.ylabel('frequency density')\n",
    "plt.title('top students\\' weekday sleep')\n",
    "plt.grid()\n",
    "plt.show()\n",
    "\n",
    "plt.figure()\n",
    "plt.hist(WeekdaySleepOfGpaNormal, bins=5, density=1, alpha=0.5, histtype='stepfilled',color='steelblue', edgecolor='none')\n",
    "x  = np.linspace(3,12)\n",
    "y =  np.exp(-(x-AverageSleepOfGpaNormal)**2/(2*stdSleepOfGpaNormal**2))/(np.sqrt(2*np.pi)*stdSleepOfGpaNormal)\n",
    "plt.plot(x,y,'ro-',x,y,'g*',linewidth=2,markersize = 3)\n",
    "plt.xlabel('weekday sleep hours')\n",
    "plt.ylabel('frequency density')\n",
    "plt.title('normal students\\' weekday sleep')\n",
    "plt.grid()\n",
    "plt.show()\n",
    "\n",
    "def porb_sleepTogpa(sleep,average,std):\n",
    "    return (1/(np.sqrt(2*np.pi*std*std)))* np.exp(-(sleep-average)**2/(2*std**2))\n",
    "def prob_sleepGivenGPA(sleep,gpa):\n",
    "    if gpa == 'top':\n",
    "        return porb_sleepTogpa(sleep,AverageSleepOfGpaTop,stdSleepOfGpaTop)\n",
    "    if gpa == 'normal':\n",
    "        return porb_sleepTogpa(sleep,AverageSleepOfGpaNormal,stdSleepOfGpaNormal)\n",
    "\n",
    "print(\"P(7.9|top):%f\"%prob_sleepGivenGPA(7.9,'top'))\n",
    "print(\"P(7.9|normal):%f\"%prob_sleepGivenGPA(7.9,'normal'))"
   ]
  },
  {
   "cell_type": "code",
   "execution_count": 15,
   "metadata": {},
   "outputs": [
    {
     "name": "stdout",
     "output_type": "stream",
     "text": [
      "0.8620689655172413\n",
      "0.8666666666666667\n",
      "0.13793103448275862\n",
      "0.13333333333333333\n"
     ]
    }
   ],
   "source": [
    "## AllNighter\n",
    "def gpa_and_AllNighter(gpa,n):\n",
    "    value = 0\n",
    "    if gpa == 'top':\n",
    "        for i in range(len(train_datas)-1):\n",
    "            if train_datas[i].GPA >= 3.75 and train_datas[i].AllNighter == n :\n",
    "                value+=1\n",
    "    if gpa == 'normal':\n",
    "        for i in range(len(train_datas)-1):\n",
    "            if train_datas[i].GPA < 3.75 and train_datas[i].AllNighter == n :\n",
    "                value+=1        \n",
    "    return value\n",
    "\n",
    "def prob_AllNighterGivenGPA(AllNighter,gpaState):\n",
    "    if gpaState == 'top':\n",
    "        return (gpa_and_AllNighter(gpaState,AllNighter)+1)/(gpaTop+2)\n",
    "    if gpaState == 'normal':\n",
    "        return (gpa_and_AllNighter(gpaState,AllNighter)+1)/(gpaNotTop+2)\n",
    "    \n",
    "print(prob_AllNighterGivenGPA(0,'top'))\n",
    "print(prob_AllNighterGivenGPA(0,'normal'))\n",
    "print(prob_AllNighterGivenGPA(1,'top'))\n",
    "print(prob_AllNighterGivenGPA(1,'normal'))"
   ]
  },
  {
   "cell_type": "code",
   "execution_count": 16,
   "metadata": {},
   "outputs": [
    {
     "name": "stdout",
     "output_type": "stream",
     "text": [
      "Correct times of testing 15, total testing times 15.\n",
      "Correct rate of testing is 1.000000.\n"
     ]
    }
   ],
   "source": [
    "# considering all the factors above, select Gender,ClassYear,LarkOwl,DepressionStatus,\n",
    "# Stress,AlcoholUse,WeekdaySleep to make decision\n",
    "corrects = 0\n",
    "times = 0\n",
    "for i in range(len(test_datas)-1):\n",
    "    test = test_datas[i]\n",
    "    p1 = prob_gpa('top')*prob_GenderGivenGPA(test.Gender,'top')*prob_ClassYearGivenGPA(test.ClassYear,'top')*prob_LarkOwlGivenGPA(test.LarkOwl,'top')*prob_DepressionStatusGivenGPA(test.DepressionStatus,'top')*prob_StressGivenGPA(test.Stress,'top')*prob_AlcoholUseGivenGPA(test.AlcoholUse,'top')*prob_sleepGivenGPA(test.WeekdaySleep,'top')\n",
    "    p2 = prob_gpa('normal')*prob_GenderGivenGPA(test.Gender,'normal')*prob_ClassYearGivenGPA(test.ClassYear,'normal')*prob_LarkOwlGivenGPA(test.LarkOwl,'normal')*prob_DepressionStatusGivenGPA(test.DepressionStatus,'normal')*prob_StressGivenGPA(test.Stress,'normal')*prob_AlcoholUseGivenGPA(test.AlcoholUse,'normal')*prob_sleepGivenGPA(test.WeekdaySleep,'normal')\n",
    "    times+=1\n",
    "    if (p1 > p2 and test.GPA >= 3.75) or (p1<p2 and test.GPA < (3.75)):\n",
    "        corrects+=1\n",
    "print(\"Correct times of testing %d, total testing times %d.\"%(corrects,times))\n",
    "print(\"Correct rate of testing is %f.\"%(corrects/times))\n"
   ]
  },
  {
   "cell_type": "code",
   "execution_count": 17,
   "metadata": {},
   "outputs": [
    {
     "name": "stdout",
     "output_type": "stream",
     "text": [
      "Correct times of testing 225, total testing times 252.\n",
      "Correct rate of testing is 0.892857.\n",
      "The normal student percentage:0.822134.\n"
     ]
    }
   ],
   "source": [
    "## total testing\n",
    "corrects = 0\n",
    "times = 0\n",
    "for i in range(len(datas)-1):\n",
    "    test = datas[i]\n",
    "    p1 = prob_gpa('top')*prob_GenderGivenGPA(test.Gender,'top')*prob_ClassYearGivenGPA(test.ClassYear,'top')*prob_LarkOwlGivenGPA(test.LarkOwl,'top')*prob_DepressionStatusGivenGPA(test.DepressionStatus,'top')*prob_StressGivenGPA(test.Stress,'top')*prob_AlcoholUseGivenGPA(test.AlcoholUse,'top')*prob_sleepGivenGPA(test.WeekdaySleep,'top')\n",
    "    p2 = prob_gpa('normal')*prob_GenderGivenGPA(test.Gender,'normal')*prob_ClassYearGivenGPA(test.ClassYear,'normal')*prob_LarkOwlGivenGPA(test.LarkOwl,'normal')*prob_DepressionStatusGivenGPA(test.DepressionStatus,'normal')*prob_StressGivenGPA(test.Stress,'normal')*prob_AlcoholUseGivenGPA(test.AlcoholUse,'normal')*prob_sleepGivenGPA(test.WeekdaySleep,'normal')\n",
    "    times+=1\n",
    "    if (p1 > p2 and test.GPA >= 3.75) or (p1<p2 and test.GPA < (3.75)):\n",
    "        corrects+=1\n",
    "print(\"Correct times of testing %d, total testing times %d.\"%(corrects,times))\n",
    "print(\"Correct rate of testing is %f.\"%(corrects/times))\n",
    "print(\"The normal student percentage:%f.\"%(gpaNotTop/len(datas)))"
   ]
  }
 ],
 "metadata": {
  "kernelspec": {
   "display_name": "Python 3",
   "language": "python",
   "name": "python3"
  },
  "language_info": {
   "codemirror_mode": {
    "name": "ipython",
    "version": 3
   },
   "file_extension": ".py",
   "mimetype": "text/x-python",
   "name": "python",
   "nbconvert_exporter": "python",
   "pygments_lexer": "ipython3",
   "version": "3.7.2"
  }
 },
 "nbformat": 4,
 "nbformat_minor": 2
}
